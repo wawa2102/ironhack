{
 "cells": [
  {
   "cell_type": "code",
   "execution_count": 1,
   "metadata": {},
   "outputs": [],
   "source": [
    "crypted_message = \"\"\"GFS   WMY   OG   LGDVS   MF   SFNKYHOSU   ESLLMRS,   PC   WS   BFGW   POL   DMFRQMRS,   PL   OG   \n",
    "CPFU   M   UPCCSKSFO   HDMPFOSXO   GC   OIS   LMES   DMFRQMRS   DGFR   SFGQRI   OG   CPDD   GFS\n",
    "LISSO   GK   LG,   MFU   OISF   WS   NGQFO   OIS   GNNQKKSFNSL   GC   SMNI   DSOOSK.   WS   NMDD   OIS\n",
    "EGLO   CKSJQSFODY   GNNQKKPFR   DSOOSK   OIS   'CPKLO',   OIS   FSXO   EGLO   GNNQKKPFR   DSOOSK\n",
    "OIS   'LSNGFU'   OIS   CGDDGWPFR   EGLO   GNNQKKPFR   DSOOSK   OIS   'OIPKU',   MFU   LG   GF,   QFOPD\n",
    "WS   MNNGQFO   CGK   MDD   OIS   UPCCSKSFO   DSOOSKL   PF   OIS   HDMPFOSXO   LMEHDS.   OISF   WS\n",
    "DGGB   MO   OIS   NPHISK   OSXO   WS   WMFO   OG   LGDVS   MFU   WS   MDLG   NDMLLPCY   POL\n",
    "LYEAGDL.   WS   CPFU   OIS   EGLO   GNNQKKPFR   LYEAGD   MFU   NIMFRS   PO   OG   OIS   CGKE   GC   OIS\n",
    "'CPKLO'   DSOOSK   GC   OIS   HDMPFOSXO   LMEHDS,   OIS   FSXO   EGLO   NGEEGF   LYEAGD   PL  NIM‐\n",
    "FRSU OG   OIS   CGKE   GC   OIS   'LSNGFU'   DSOOSK,   MFU   OIS   CGDDGWPFR   EGLO   NGEEGF   LYEAGD   \n",
    "PL NIMFRSU   OG   OIS   CGKE   GC   OIS   'OIPKU'   DSOOSK,   MFU   LG   GF,   QFOPD   WS   MNNGQFO   \n",
    "CGK MDD   LYEAGDL   GC   OIS   NKYHOGRKME   WS   WMFO   OG   LGDVS.\"\"\""
   ]
  },
  {
   "cell_type": "code",
   "execution_count": 2,
   "metadata": {},
   "outputs": [
    {
     "data": {
      "text/plain": [
       "\"GFS   WMY   OG   LGDVS   MF   SFNKYHOSU   ESLLMRS,   PC   WS   BFGW   POL   DMFRQMRS,   PL   OG   \\nCPFU   M   UPCCSKSFO   HDMPFOSXO   GC   OIS   LMES   DMFRQMRS   DGFR   SFGQRI   OG   CPDD   GFS\\nLISSO   GK   LG,   MFU   OISF   WS   NGQFO   OIS   GNNQKKSFNSL   GC   SMNI   DSOOSK.   WS   NMDD   OIS\\nEGLO   CKSJQSFODY   GNNQKKPFR   DSOOSK   OIS   'CPKLO',   OIS   FSXO   EGLO   GNNQKKPFR   DSOOSK\\nOIS   'LSNGFU'   OIS   CGDDGWPFR   EGLO   GNNQKKPFR   DSOOSK   OIS   'OIPKU',   MFU   LG   GF,   QFOPD\\nWS   MNNGQFO   CGK   MDD   OIS   UPCCSKSFO   DSOOSKL   PF   OIS   HDMPFOSXO   LMEHDS.   OISF   WS\\nDGGB   MO   OIS   NPHISK   OSXO   WS   WMFO   OG   LGDVS   MFU   WS   MDLG   NDMLLPCY   POL\\nLYEAGDL.   WS   CPFU   OIS   EGLO   GNNQKKPFR   LYEAGD   MFU   NIMFRS   PO   OG   OIS   CGKE   GC   OIS\\n'CPKLO'   DSOOSK   GC   OIS   HDMPFOSXO   LMEHDS,   OIS   FSXO   EGLO   NGEEGF   LYEAGD   PL  NIM‐\\nFRSU OG   OIS   CGKE   GC   OIS   'LSNGFU'   DSOOSK,   MFU   OIS   CGDDGWPFR   EGLO   NGEEGF   LYEAGD   \\nPL NIMFRSU   OG   OIS   CGKE   GC   OIS   'OIPKU'   DSOOSK,   MFU   LG   GF,   QFOPD   WS   MNNGQFO   \\nCGK MDD   LYEAGDL   GC   OIS   NKYHOGRKME   WS   WMFO   OG   LGDVS.\""
      ]
     },
     "execution_count": 2,
     "metadata": {},
     "output_type": "execute_result"
    }
   ],
   "source": [
    "crypted_message"
   ]
  },
  {
   "cell_type": "code",
   "execution_count": null,
   "metadata": {},
   "outputs": [],
   "source": []
  }
 ],
 "metadata": {
  "kernelspec": {
   "display_name": "Python 3",
   "language": "python",
   "name": "python3"
  },
  "language_info": {
   "codemirror_mode": {
    "name": "ipython",
    "version": 3
   },
   "file_extension": ".py",
   "mimetype": "text/x-python",
   "name": "python",
   "nbconvert_exporter": "python",
   "pygments_lexer": "ipython3",
   "version": "3.7.7"
  }
 },
 "nbformat": 4,
 "nbformat_minor": 4
}
