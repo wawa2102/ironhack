{
 "cells": [
  {
   "cell_type": "code",
   "execution_count": 8,
   "metadata": {},
   "outputs": [
    {
     "name": "stdout",
     "output_type": "stream",
     "text": [
      "Y a t il du traffic ? False\n",
      "Y a t il de la pluie ? True\n",
      "50\n"
     ]
    }
   ],
   "source": [
    "traffic = bool(input(\"Is there Traffic (True/False) ? \"))\n",
    "aditional_time_jam = 25\n",
    "raining = bool(input(\"Is there raining (True/False) ? \"))\n",
    "adtional_time_rain = 15\n",
    "commute_time = 35\n",
    "\n",
    "if raining == True:\n",
    "    commute_time += adtional_time_rain\n",
    "\n",
    "elif raining == True and traffic == True:\n",
    "    commute_time += aditional_time_jam + adtional_time_rain\n",
    "    \n",
    "else : \n",
    "    commute_time = 35\n",
    "    \n",
    "print(commute_time)\n",
    "    \n",
    "\n",
    "\n",
    "\n"
   ]
  },
  {
   "cell_type": "code",
   "execution_count": null,
   "metadata": {},
   "outputs": [],
   "source": []
  }
 ],
 "metadata": {
  "kernelspec": {
   "display_name": "Python 3",
   "language": "python",
   "name": "python3"
  },
  "language_info": {
   "codemirror_mode": {
    "name": "ipython",
    "version": 3
   },
   "file_extension": ".py",
   "mimetype": "text/x-python",
   "name": "python",
   "nbconvert_exporter": "python",
   "pygments_lexer": "ipython3",
   "version": "3.7.7"
  }
 },
 "nbformat": 4,
 "nbformat_minor": 4
}
